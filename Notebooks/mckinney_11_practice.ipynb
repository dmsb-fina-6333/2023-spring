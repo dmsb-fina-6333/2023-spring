{
 "cells": [
  {
   "cell_type": "markdown",
   "id": "4660c66c-e02d-4f08-a478-475f8bafb27c",
   "metadata": {},
   "source": [
    "# McKinney Chapter 11 - Practice (Blank)"
   ]
  },
  {
   "cell_type": "markdown",
   "id": "0cd82d7c-4856-43c3-8886-6ca047828f81",
   "metadata": {},
   "source": [
    "***Practice:***\n",
    "Keep only the first observation for each date in `dup_ts` from above.\n",
    "Keep only the largest observation for each date in `dup_ts`.\n",
    "Also try the `.drop_duplicates()` method"
   ]
  },
  {
   "cell_type": "code",
   "execution_count": 1,
   "id": "6a782a8a-6ee7-43ac-96e5-8512fe30eca8",
   "metadata": {},
   "outputs": [
    {
     "ename": "NameError",
     "evalue": "name 'pd' is not defined",
     "output_type": "error",
     "traceback": [
      "\u001b[0;31m---------------------------------------------------------------------------\u001b[0m",
      "\u001b[0;31mNameError\u001b[0m                                 Traceback (most recent call last)",
      "Cell \u001b[0;32mIn[1], line 1\u001b[0m\n\u001b[0;32m----> 1\u001b[0m dates \u001b[38;5;241m=\u001b[39m \u001b[43mpd\u001b[49m\u001b[38;5;241m.\u001b[39mDatetimeIndex([\u001b[38;5;124m'\u001b[39m\u001b[38;5;124m1/1/2000\u001b[39m\u001b[38;5;124m'\u001b[39m, \u001b[38;5;124m'\u001b[39m\u001b[38;5;124m1/2/2000\u001b[39m\u001b[38;5;124m'\u001b[39m, \u001b[38;5;124m'\u001b[39m\u001b[38;5;124m1/2/2000\u001b[39m\u001b[38;5;124m'\u001b[39m, \u001b[38;5;124m'\u001b[39m\u001b[38;5;124m1/2/2000\u001b[39m\u001b[38;5;124m'\u001b[39m, \u001b[38;5;124m'\u001b[39m\u001b[38;5;124m1/3/2000\u001b[39m\u001b[38;5;124m'\u001b[39m])\n\u001b[1;32m      2\u001b[0m dup_ts \u001b[38;5;241m=\u001b[39m pd\u001b[38;5;241m.\u001b[39mSeries(np\u001b[38;5;241m.\u001b[39marange(\u001b[38;5;241m5\u001b[39m), index\u001b[38;5;241m=\u001b[39mdates)\n",
      "\u001b[0;31mNameError\u001b[0m: name 'pd' is not defined"
     ]
    }
   ],
   "source": [
    "dates = pd.DatetimeIndex(['1/1/2000', '1/2/2000', '1/2/2000', '1/2/2000', '1/3/2000'])\n",
    "dup_ts = pd.Series(np.arange(5), index=dates)"
   ]
  },
  {
   "cell_type": "markdown",
   "id": "2e79953b-48e1-4756-bbd0-0ac54f09a158",
   "metadata": {},
   "source": [
    "***Practice:***\n",
    "Download daily data market data for TSLA and add daily returns as column named `Return`.\n",
    "The add the 1 trading lag of `Return` as a column named `Return_lag1`."
   ]
  },
  {
   "cell_type": "markdown",
   "id": "4414fd4c-9894-4171-9465-b0e26c87cfc5",
   "metadata": {
    "tags": []
   },
   "source": [
    "***Practice:***\n",
    "Calculate 5-minute returns for GME from 1-minute data.\n",
    "\n",
    "_Hints:_\n",
    "\n",
    "1. Recall that returns are the percent change of the adjust close column\n",
    "2. Use the `label` and `closed` arguments so that returns are the over the _previous_ five minutes"
   ]
  },
  {
   "cell_type": "markdown",
   "id": "e6caf0af-73f7-4a95-9e86-1a56956590ef",
   "metadata": {
    "tags": []
   },
   "source": [
    "***Practice:***\n",
    "Calculate rolling capital asset pricing model (CAPM) betas for these stocks.\n",
    "The CAPM says the risk premium on a stock depends on the risk-free rate, beta, and the risk premium on the market:\n",
    "$$E(R_{stock}) = R_f + \\beta_{stock} \\times (E(R_{market}) - R_f).$$\n",
    "We can calculate CAPM betas as:\n",
    "$$\\beta_{stock} = \\frac{Cov(R_{stock} - R_f, R_{market} - R_f)}{Var(R_{market} - R_f)}.$$"
   ]
  },
  {
   "cell_type": "markdown",
   "id": "ce842872-7a64-4fc0-b62c-ca6626d947a3",
   "metadata": {},
   "source": [
    "***Practice:*** \n",
    "Use the `.apply()` method to collapse the beta calculation above into one-line of code."
   ]
  },
  {
   "cell_type": "markdown",
   "id": "6a4bbf9f-16ec-499b-bd74-0eebb2999518",
   "metadata": {},
   "source": [
    "***Practice:***\n",
    "The Sharpe Ratio is often used to evaluate fund managers.\n",
    "The Sharpe Ratio is $$SR_i = \\frac{\\overline{R_i - R_f}}{\\sigma},$$ where $\\overline{R_i-R_f}$ is mean fund return relative to the risk-free rate over some period and $\\sigma$ is the standard deviation of $R_i-R_f$ over the same period.\n",
    "While the Sharpe Ratio is typically used for funds, we can apply it to a single stock to test our knowledge of the `.rolling()` method.\n",
    "Calculate and plot the one-year rolling Sharpe Ratio for GME using all available daily data.\n",
    "Download GME data from Yahoo! Finance and risk-free rate data from Ken French."
   ]
  }
 ],
 "metadata": {
  "author": "Richard Herron",
  "kernelspec": {
   "display_name": "Python 3 (ipykernel)",
   "language": "python",
   "name": "python3"
  },
  "language_info": {
   "codemirror_mode": {
    "name": "ipython",
    "version": 3
   },
   "file_extension": ".py",
   "mimetype": "text/x-python",
   "name": "python",
   "nbconvert_exporter": "python",
   "pygments_lexer": "ipython3",
   "version": "3.10.8"
  },
  "title": "McKinney Chapter 11 - Practice"
 },
 "nbformat": 4,
 "nbformat_minor": 5
}
