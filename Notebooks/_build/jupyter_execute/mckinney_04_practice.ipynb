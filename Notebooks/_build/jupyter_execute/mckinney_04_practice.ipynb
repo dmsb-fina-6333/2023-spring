{
 "cells": [
  {
   "cell_type": "markdown",
   "id": "44439447-3047-4145-847e-ac90df0e3162",
   "metadata": {},
   "source": [
    "# McKinney Chapter 4 - Practice (Blank)"
   ]
  },
  {
   "cell_type": "code",
   "execution_count": 1,
   "id": "e699f608-e306-43be-833d-942d29021c50",
   "metadata": {},
   "outputs": [
    {
     "data": {
      "text/plain": [
       "'%.4f'"
      ]
     },
     "execution_count": 1,
     "metadata": {},
     "output_type": "execute_result"
    }
   ],
   "source": [
    "import numpy as np\n",
    "%precision 4"
   ]
  },
  {
   "cell_type": "markdown",
   "id": "bd998b0b-6cb1-45c7-adec-48bb1fc62f9f",
   "metadata": {},
   "source": [
    "***Practice:***\n",
    "Create a 1-dimensional array named `a1` that counts from 0 to 24 by 1."
   ]
  },
  {
   "cell_type": "markdown",
   "id": "2bf711fc-5690-42ed-bfa8-5788b2af1320",
   "metadata": {},
   "source": [
    "***Practice:***\n",
    "Create a 1-dimentional array named `a2` that counts from 0 to 24 by 3."
   ]
  },
  {
   "cell_type": "markdown",
   "id": "ca4c0603-53bc-41e4-8be4-234b5d223033",
   "metadata": {},
   "source": [
    "***Practice:***\n",
    "Create a 1-dimentional array named `a3` that counts from 0 to 100 by multiples of 3 and 5."
   ]
  },
  {
   "cell_type": "markdown",
   "id": "5d8094be-53ca-4fce-a493-e8ba05051e9a",
   "metadata": {},
   "source": [
    "***Practice:***\n",
    "Create a 1-dimensional array `a3` that contains the squares of the even integers through 100,000.\n",
    "How much faster is the NumPy version than the list comprehension version?"
   ]
  },
  {
   "cell_type": "markdown",
   "id": "daa77654-df00-4f92-8b4e-158b62e27c0e",
   "metadata": {},
   "source": [
    "***Practice:***\n",
    "Write a function that mimic Excel's `pv` function."
   ]
  },
  {
   "cell_type": "markdown",
   "id": "99aab945-099d-48fb-8390-71fca4b22c2e",
   "metadata": {},
   "source": [
    "***Practice:***\n",
    "Write a function that mimic Excel's `fv` function."
   ]
  },
  {
   "cell_type": "markdown",
   "id": "9c479549-c910-4bf6-843c-f263d81520e5",
   "metadata": {},
   "source": [
    "***Practice:***\n",
    "Replace the negative values in `data` with -1 and positive values with +1."
   ]
  },
  {
   "cell_type": "code",
   "execution_count": 2,
   "id": "e98dc508-db40-43d0-95a7-b5b3a36a34b2",
   "metadata": {},
   "outputs": [],
   "source": [
    "np.random.seed(42)\n",
    "data = np.random.randn(7, 7)"
   ]
  },
  {
   "cell_type": "markdown",
   "id": "784da531-3f16-4afd-b0bb-0d800c116540",
   "metadata": {},
   "source": [
    "***Practice:***\n",
    "Write a function that calculates the number of payments that generate $x\\%$ of the present value of a perpetuity given $C_1$, $r$, and $g$.\n",
    "Recall the present value of a growing perpetuity is $PV = \\frac{C_1}{r - g}$ and the present value of a growing annuity is $PV = \\frac{C_1}{r - g}\\left[ 1 - \\left( \\frac{1 + g}{1 + r} \\right)^t \\right]$."
   ]
  },
  {
   "cell_type": "markdown",
   "id": "c350c919-5358-414c-a106-ca845a1149ff",
   "metadata": {},
   "source": [
    "***Practice:***\n",
    "Write a function that calculates the internal rate of return given an numpy array of cash flows."
   ]
  },
  {
   "cell_type": "markdown",
   "id": "3bbc1ce3-1962-469e-bc58-f8c13b512961",
   "metadata": {},
   "source": [
    "***Practice:***\n",
    "Write a function `returns()` that accepts *NumPy arrays* of prices and dividends and returns a *NumPy array* of returns."
   ]
  },
  {
   "cell_type": "code",
   "execution_count": 3,
   "id": "a0cddc6d-6efd-40b5-8747-aba48243558f",
   "metadata": {},
   "outputs": [],
   "source": [
    "prices = np.array([100, 150, 100, 50, 100, 150, 100, 150])\n",
    "dividends = np.array([1, 1, 1, 1, 2, 2, 2, 2])"
   ]
  },
  {
   "cell_type": "markdown",
   "id": "31b6c657-3164-46a0-9160-7c868714c76b",
   "metadata": {},
   "source": [
    "***Practice:***\n",
    "Rewrite the function `returns()` so it returns *NumPy arrays* of returns, capital gains yields, and dividend yields.\n",
    "How can we return these *NumPy arrays*?"
   ]
  },
  {
   "cell_type": "markdown",
   "id": "d8bd7ca3-163d-4283-89bd-3902139b42a8",
   "metadata": {},
   "source": [
    "***Practice:***\n",
    "Rescale and shift numbers so that they cover the range [0, 1]\n",
    "\n",
    "Input: `[18.5, 17.0, 18.0, 19.0, 18.0]` \\\n",
    "Output: `[0.75, 0.0, 0.5, 1.0, 0.5]`"
   ]
  },
  {
   "cell_type": "code",
   "execution_count": 4,
   "id": "73c96365-d699-4762-b87a-f4f9f68643a1",
   "metadata": {},
   "outputs": [],
   "source": [
    "numbers = np.array([18.5, 17.0, 18.0, 19.0, 18.0])"
   ]
  },
  {
   "cell_type": "markdown",
   "id": "b2840013-143b-4c27-842b-737269192f17",
   "metadata": {},
   "source": [
    "***Practice:***\n",
    "NumPy's `.var()` and `.std()` methods return *population* statistics (denominators of $n$).\n",
    "The pandas equivalents return *sample* statistics (denominators of $n-1$), which are more appropriate for financial data analysis where we have a sample instead of a population.\n",
    "\n",
    "Write functions `var()` and `std()` that calculate variance and standard deviation.\n",
    "Both function should have an argument `sample` that is `True` by default so both functions return sample values by default.\n",
    "\n",
    "Use the output of `returns()` to compare your functions with NumPy's `.var()` and `.std()` methods."
   ]
  }
 ],
 "metadata": {
  "author": "Richard Herron",
  "kernelspec": {
   "display_name": "Python 3 (ipykernel)",
   "language": "python",
   "name": "python3"
  },
  "language_info": {
   "codemirror_mode": {
    "name": "ipython",
    "version": 3
   },
   "file_extension": ".py",
   "mimetype": "text/x-python",
   "name": "python",
   "nbconvert_exporter": "python",
   "pygments_lexer": "ipython3",
   "version": "3.10.6"
  },
  "title": "McKinney Chapter 4 - Practice"
 },
 "nbformat": 4,
 "nbformat_minor": 5
}