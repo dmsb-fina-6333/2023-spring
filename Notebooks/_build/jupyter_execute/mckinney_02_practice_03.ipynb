{
 "cells": [
  {
   "cell_type": "markdown",
   "id": "84f5567b-2c05-41c7-9cb3-498ecd6e4c00",
   "metadata": {},
   "source": [
    "# McKinney Chapter 2 - Practice (Section 03, Monday 2:45 PM)"
   ]
  },
  {
   "cell_type": "markdown",
   "id": "7373fbfc-3994-4c15-bc09-91e9599291e1",
   "metadata": {},
   "source": [
    "***Practice:*** \n",
    "Extract the year, month, and day from an integer 8-digit date (i.e., YYYYMMDD format) using `//` (integer division) and `%` (modulo division).\n",
    "Try `20080915`."
   ]
  },
  {
   "cell_type": "code",
   "execution_count": 1,
   "id": "15c9dbb0-f675-49f8-84ff-53c911dfe845",
   "metadata": {},
   "outputs": [],
   "source": [
    "ymd = 20080915"
   ]
  },
  {
   "cell_type": "code",
   "execution_count": 2,
   "id": "0aa884be-d7bc-4f21-9b10-ed8878698299",
   "metadata": {},
   "outputs": [
    {
     "data": {
      "text/plain": [
       "2008"
      ]
     },
     "execution_count": 2,
     "metadata": {},
     "output_type": "execute_result"
    }
   ],
   "source": [
    "ymd // 10000"
   ]
  },
  {
   "cell_type": "code",
   "execution_count": 3,
   "id": "4f454038-41dc-43f9-99c4-7670c73d09ad",
   "metadata": {},
   "outputs": [
    {
     "data": {
      "text/plain": [
       "915"
      ]
     },
     "execution_count": 3,
     "metadata": {},
     "output_type": "execute_result"
    }
   ],
   "source": [
    "ymd % 10000"
   ]
  },
  {
   "cell_type": "code",
   "execution_count": 4,
   "id": "fc53f3cc-def6-49a6-aaf0-800ef31b9a6a",
   "metadata": {},
   "outputs": [],
   "source": [
    "year = ymd // 10000"
   ]
  },
  {
   "cell_type": "code",
   "execution_count": 5,
   "id": "ce65f54d-2c3c-4ccc-b3e1-a4bf925cd377",
   "metadata": {},
   "outputs": [],
   "source": [
    "month = (ymd // 100) % 100"
   ]
  },
  {
   "cell_type": "code",
   "execution_count": 6,
   "id": "a1e93203-201c-43bf-a2c0-eb2655fea9ae",
   "metadata": {},
   "outputs": [],
   "source": [
    "day = ymd % 100"
   ]
  },
  {
   "cell_type": "code",
   "execution_count": 7,
   "id": "91578432-8f17-4f56-b616-db7a645d1e72",
   "metadata": {},
   "outputs": [
    {
     "data": {
      "text/plain": [
       "(2008, 9, 15)"
      ]
     },
     "execution_count": 7,
     "metadata": {},
     "output_type": "execute_result"
    }
   ],
   "source": [
    "(year, month, day)"
   ]
  },
  {
   "cell_type": "markdown",
   "id": "be060ebd-93d7-4c2e-b57a-a4ff9a6d2a93",
   "metadata": {},
   "source": [
    "***Practice:***\n",
    "Use your answer above to write a function `date` that accepts an integer 8-digit date argument and returns a tuple of the year, month, and date (e.g., `return (year, month, date)`)"
   ]
  },
  {
   "cell_type": "code",
   "execution_count": 8,
   "id": "4c3e1ffd-f056-4655-b767-e2e168ecd5d1",
   "metadata": {},
   "outputs": [],
   "source": [
    "def date(ymd):\n",
    "    year = ymd // 10000\n",
    "    month = (ymd // 100) % 100\n",
    "    day = ymd % 100\n",
    "    return (year, month, day)"
   ]
  },
  {
   "cell_type": "code",
   "execution_count": 9,
   "id": "661ac63b-d766-45ff-a1ef-1bbbc2d50ae9",
   "metadata": {},
   "outputs": [
    {
     "data": {
      "text/plain": [
       "(2008, 9, 15)"
      ]
     },
     "execution_count": 9,
     "metadata": {},
     "output_type": "execute_result"
    }
   ],
   "source": [
    "date(20080915)"
   ]
  },
  {
   "cell_type": "markdown",
   "id": "89e332f5-1f05-479a-a055-188098f0d9dd",
   "metadata": {},
   "source": [
    "***Practice:***\n",
    "Rewrite `date` to accept an 8-digit date as an integer or string."
   ]
  },
  {
   "cell_type": "code",
   "execution_count": 10,
   "id": "510c50af-21fa-4894-a77c-d1aa22a85967",
   "metadata": {},
   "outputs": [],
   "source": [
    "def date(ymd):\n",
    "    if type(ymd) is str:\n",
    "        ymd = int(ymd)\n",
    "    year = ymd // 10000\n",
    "    month = (ymd // 100) % 100\n",
    "    day = ymd % 100\n",
    "    return (year, month, day)"
   ]
  },
  {
   "cell_type": "code",
   "execution_count": 11,
   "id": "8e74cb0a-3acd-4798-9551-3868866c90eb",
   "metadata": {},
   "outputs": [
    {
     "data": {
      "text/plain": [
       "(2008, 9, 15)"
      ]
     },
     "execution_count": 11,
     "metadata": {},
     "output_type": "execute_result"
    }
   ],
   "source": [
    "date(20080915)"
   ]
  },
  {
   "cell_type": "markdown",
   "id": "7ea1b963-efc2-40ef-b81c-24f0fc4a48d0",
   "metadata": {},
   "source": [
    "***Practice:***\n",
    "Finally, rewrite `date` to accept a list of 8-digit dates as integers or strings.\n",
    "Return a list of tuples of year, month, and date."
   ]
  },
  {
   "cell_type": "code",
   "execution_count": 12,
   "id": "d58a5aab-dfe0-4dde-8b63-ba2474dcc459",
   "metadata": {},
   "outputs": [],
   "source": [
    "def date(ymd):\n",
    "    dates = []\n",
    "    if type(ymd) is not list:\n",
    "        ymd = [ymd]\n",
    "    for i in ymd:\n",
    "        if type(i) is str:\n",
    "            i = int(i)\n",
    "        year = i // 10000\n",
    "        month = (i // 100) % 100\n",
    "        day = i % 100\n",
    "        dates.append((year, month, day))\n",
    "    return dates"
   ]
  },
  {
   "cell_type": "code",
   "execution_count": 13,
   "id": "681cad75-427b-47c2-a2c0-e690b40eb4ad",
   "metadata": {},
   "outputs": [
    {
     "data": {
      "text/plain": [
       "[(2008, 9, 15)]"
      ]
     },
     "execution_count": 13,
     "metadata": {},
     "output_type": "execute_result"
    }
   ],
   "source": [
    "date(20080915)"
   ]
  },
  {
   "cell_type": "code",
   "execution_count": 14,
   "id": "3a3ffffb-d85e-4a76-9e93-782c8974b25d",
   "metadata": {},
   "outputs": [
    {
     "data": {
      "text/plain": [
       "[(2008, 9, 15), (2008, 9, 15)]"
      ]
     },
     "execution_count": 14,
     "metadata": {},
     "output_type": "execute_result"
    }
   ],
   "source": [
    "date([20080915, '20080915'])"
   ]
  },
  {
   "cell_type": "markdown",
   "id": "629e8239-27c2-48f4-ba1c-7e97da177f01",
   "metadata": {},
   "source": [
    "***Practice:***\n",
    "Write a for loop that prints the squares of integers from 1 to 10."
   ]
  },
  {
   "cell_type": "code",
   "execution_count": 15,
   "id": "4acc5e0d-5def-429c-a0c8-072d9010ba96",
   "metadata": {},
   "outputs": [
    {
     "name": "stdout",
     "output_type": "stream",
     "text": [
      "1 4 9 16 25 36 49 64 81 100 "
     ]
    }
   ],
   "source": [
    "for i in range(1, 11):\n",
    "    print(i**2, end=' ')"
   ]
  },
  {
   "cell_type": "markdown",
   "id": "a9d6b795-0b4c-46c5-9c6b-d1239c6c9750",
   "metadata": {},
   "source": [
    "Above, I change the `end` argument from the default '\\n' to ' '.\n",
    "The default '\\n' inserts a new line after value, making the output too long."
   ]
  },
  {
   "cell_type": "markdown",
   "id": "a9d5310a-f19a-448e-976f-44ffbecad467",
   "metadata": {},
   "source": [
    "***Practice:***\n",
    "Write a for loop that prints the squares of *even* integers from 1 to 10."
   ]
  },
  {
   "cell_type": "code",
   "execution_count": 16,
   "id": "361ea3a8-b686-4233-9cab-0cd8db7dee05",
   "metadata": {},
   "outputs": [
    {
     "name": "stdout",
     "output_type": "stream",
     "text": [
      "4 16 36 64 100 "
     ]
    }
   ],
   "source": [
    "for i in range(1, 11):\n",
    "    if i % 2 == 0:\n",
    "        print(i**2, end=' ')"
   ]
  },
  {
   "cell_type": "markdown",
   "id": "fca2f010-cd87-4c0f-8a47-c849a8f26cc2",
   "metadata": {},
   "source": [
    "***Practice:*** \n",
    "Write a for loop that sums the squares of integers from 1 to 10."
   ]
  },
  {
   "cell_type": "code",
   "execution_count": 17,
   "id": "75d19c95-d4c1-4938-8206-e0837b0d0a88",
   "metadata": {},
   "outputs": [],
   "source": [
    "total = 0\n",
    "for i in range(1, 11):\n",
    "    total += i**2"
   ]
  },
  {
   "cell_type": "code",
   "execution_count": 18,
   "id": "7b7e4a11-7838-41fc-ba87-621651b1cad6",
   "metadata": {},
   "outputs": [
    {
     "data": {
      "text/plain": [
       "385"
      ]
     },
     "execution_count": 18,
     "metadata": {},
     "output_type": "execute_result"
    }
   ],
   "source": [
    "total"
   ]
  },
  {
   "cell_type": "markdown",
   "id": "ca9b33cb-84c3-4847-93ad-7e9feceb88ca",
   "metadata": {},
   "source": [
    "Above, I use `total += i`, which is equivalent to `total = total + i`."
   ]
  },
  {
   "cell_type": "markdown",
   "id": "4f59f13f-ba78-4212-bf00-b060756b4320",
   "metadata": {},
   "source": [
    "***Practice:*** \n",
    "Write a for loop that sums the squares of integers from 1 to 10 but stops before the sum exceeds 50."
   ]
  },
  {
   "cell_type": "code",
   "execution_count": 19,
   "id": "e512a475-3841-43ca-b1c6-bcaa0527b4e5",
   "metadata": {},
   "outputs": [],
   "source": [
    "total = 0\n",
    "for i in range(1, 11):\n",
    "    if (total + i**2) > 50:\n",
    "        break\n",
    "    total += i**2"
   ]
  },
  {
   "cell_type": "code",
   "execution_count": 20,
   "id": "d32cb821-ad4f-47bb-bb9e-176a1c8df317",
   "metadata": {},
   "outputs": [
    {
     "data": {
      "text/plain": [
       "30"
      ]
     },
     "execution_count": 20,
     "metadata": {},
     "output_type": "execute_result"
    }
   ],
   "source": [
    "total"
   ]
  },
  {
   "cell_type": "markdown",
   "id": "754dfb1e-228a-4b17-a232-b5cea8f6885f",
   "metadata": {
    "tags": []
   },
   "source": [
    "***Practice:*** \n",
    "Write a for loop that prints the numbers from 1 to 100. \n",
    "For multiples of three print \"Fizz\" instead of the number.\n",
    "For multiples of five print \"Buzz\". \n",
    "For numbers that are multiples of both three and five print \"FizzBuzz\".\n",
    "More [here](https://blog.codinghorror.com/why-cant-programmers-program/)."
   ]
  },
  {
   "cell_type": "code",
   "execution_count": 21,
   "id": "571ee82d-7938-4380-90af-21c59a7b5bbb",
   "metadata": {},
   "outputs": [
    {
     "name": "stdout",
     "output_type": "stream",
     "text": [
      "1 2 Fizz 4 Buzz Fizz 7 8 Fizz Buzz 11 Fizz 13 14 FizzBuzz 16 17 Fizz 19 Buzz Fizz 22 23 Fizz Buzz 26 Fizz 28 29 FizzBuzz 31 32 Fizz 34 Buzz Fizz 37 38 Fizz Buzz 41 Fizz 43 44 FizzBuzz 46 47 Fizz 49 Buzz Fizz 52 53 Fizz Buzz 56 Fizz 58 59 FizzBuzz 61 62 Fizz 64 Buzz Fizz 67 68 Fizz Buzz 71 Fizz 73 74 FizzBuzz 76 77 Fizz 79 Buzz Fizz 82 83 Fizz Buzz 86 Fizz 88 89 FizzBuzz 91 92 Fizz 94 Buzz Fizz 97 98 Fizz Buzz "
     ]
    }
   ],
   "source": [
    "for i in range(1, 101):\n",
    "    is_mult_3 = (i % 3 == 0)\n",
    "    is_mult_5 = (i % 5 == 0)\n",
    "    if is_mult_3 and is_mult_5:\n",
    "        print('FizzBuzz', end=' ')\n",
    "    elif is_mult_3:\n",
    "        print('Fizz', end=' ')\n",
    "    elif is_mult_5:\n",
    "        print('Buzz', end=' ')\n",
    "    else:\n",
    "        print(i, end=' ')"
   ]
  },
  {
   "cell_type": "markdown",
   "id": "9f07719a-e80d-4ddd-8d4f-ea87397d6d09",
   "metadata": {},
   "source": [
    "***Practice:*** \n",
    "Use ternary expressions to make your FizzBuzz code more compact."
   ]
  },
  {
   "cell_type": "code",
   "execution_count": 22,
   "id": "d9f3f2e4-d9a6-4426-89ff-5aade2c6fa0e",
   "metadata": {},
   "outputs": [
    {
     "name": "stdout",
     "output_type": "stream",
     "text": [
      "1 2 Fizz 4 Buzz Fizz 7 8 Fizz Buzz 11 Fizz 13 14 FizzBuzz 16 17 Fizz 19 Buzz Fizz 22 23 Fizz Buzz 26 Fizz 28 29 FizzBuzz 31 32 Fizz 34 Buzz Fizz 37 38 Fizz Buzz 41 Fizz 43 44 FizzBuzz 46 47 Fizz 49 Buzz Fizz 52 53 Fizz Buzz 56 Fizz 58 59 FizzBuzz 61 62 Fizz 64 Buzz Fizz 67 68 Fizz Buzz 71 Fizz 73 74 FizzBuzz 76 77 Fizz 79 Buzz Fizz 82 83 Fizz Buzz 86 Fizz 88 89 FizzBuzz 91 92 Fizz 94 Buzz Fizz 97 98 Fizz Buzz "
     ]
    }
   ],
   "source": [
    "for i in range(1, 101):\n",
    "    is_mult_3 = (i % 3 == 0)\n",
    "    is_mult_5 = (i % 5 == 0)\n",
    "    print('Fizz'*is_mult_3 + 'Buzz'*is_mult_5 if is_mult_3 or is_mult_5 else i, end=' ')"
   ]
  },
  {
   "cell_type": "markdown",
   "id": "0a807beb-8432-47fe-b3d7-3a73e898f67f",
   "metadata": {},
   "source": [
    "The solution above is shorter and uses from neat tricks, but I consider the previous solution easier to read and troubleshoot."
   ]
  },
  {
   "cell_type": "markdown",
   "id": "c76b23e0-a42d-4843-9723-3986a506f89e",
   "metadata": {},
   "source": [
    "***Practice:***\n",
    "Write a function `triangle` that accepts a positive integer $N$ and prints a numerical triangle of height $N-1$.\n",
    "For example, `triangle(N=6)` should print:\n",
    "\n",
    "```\n",
    "1\n",
    "22\n",
    "333\n",
    "4444\n",
    "55555\n",
    "```"
   ]
  },
  {
   "cell_type": "code",
   "execution_count": 23,
   "id": "9966b204-b101-4edd-8665-9880978637dc",
   "metadata": {},
   "outputs": [],
   "source": [
    "def triangle(N):\n",
    "    for i in range(1, N):\n",
    "        print(str(i) * i)"
   ]
  },
  {
   "cell_type": "code",
   "execution_count": 24,
   "id": "6e2648e7-f4c9-4779-9954-cf2eba37132e",
   "metadata": {},
   "outputs": [
    {
     "name": "stdout",
     "output_type": "stream",
     "text": [
      "1\n",
      "22\n",
      "333\n",
      "4444\n",
      "55555\n"
     ]
    }
   ],
   "source": [
    "triangle(6)"
   ]
  },
  {
   "cell_type": "markdown",
   "id": "91b05626-7fdb-4565-ab81-c8ecc5ccb847",
   "metadata": {},
   "source": [
    "The solution above works because a multiplying a string by `i` concatenates `i` copies of the string."
   ]
  },
  {
   "cell_type": "code",
   "execution_count": 25,
   "id": "16300a20-a2d1-40ee-960c-0ad04c0bc8e0",
   "metadata": {},
   "outputs": [
    {
     "data": {
      "text/plain": [
       "'TestTestTest'"
      ]
     },
     "execution_count": 25,
     "metadata": {},
     "output_type": "execute_result"
    }
   ],
   "source": [
    "'Test' + 'Test' + 'Test'"
   ]
  },
  {
   "cell_type": "code",
   "execution_count": 26,
   "id": "8a6f5a27-9fa1-4120-9877-2000ece063f4",
   "metadata": {},
   "outputs": [
    {
     "data": {
      "text/plain": [
       "'TestTestTest'"
      ]
     },
     "execution_count": 26,
     "metadata": {},
     "output_type": "execute_result"
    }
   ],
   "source": [
    "'Test' * 3"
   ]
  },
  {
   "cell_type": "markdown",
   "id": "e60568ec-e02d-4639-b6b5-a9816d3454d7",
   "metadata": {},
   "source": [
    "***Practice:***\n",
    "Write a function `two_sum` that does the following.\n",
    "\n",
    "Given an array of integers `nums` and an integer `target`, return the indices of the two numbers that add up to target.\n",
    "\n",
    "You may assume that each input would have exactly one solution, and you may not use the same element twice.\n",
    "\n",
    "You can return the answer in any order.\n",
    "\n",
    "Here are some examples:\n",
    "\n",
    "Example 1:\n",
    "\n",
    "Input: `nums = [2,7,11,15]`, `target = 9` \\\n",
    "Output: `[0,1]` \\\n",
    "Explanation: Because `nums[0] + nums[1] == 9`, we return `[0, 1]`.\n",
    "\n",
    "Example 2:\n",
    "\n",
    "Input: `nums = [3,2,4]`, `target = 6` \\\n",
    "Output: `[1,2]` \\\n",
    "\n",
    "Example 3:\n",
    "\n",
    "Input: `nums = [3,3]`, `target = 6` \\\n",
    "Output: `[0,1]` \\\n",
    "\n",
    "I saw this question on [LeetCode](https://leetcode.com/problems/two-sum/description/)."
   ]
  },
  {
   "cell_type": "code",
   "execution_count": 27,
   "id": "bdff32dc-1ee7-4196-bd20-77c4d61cc498",
   "metadata": {},
   "outputs": [],
   "source": [
    "def two_sum(nums, target):\n",
    "    for i in range(1, len(nums)):\n",
    "        for j in range(i):\n",
    "            if nums[i] + nums[j] == target:\n",
    "                return [j, i]"
   ]
  },
  {
   "cell_type": "code",
   "execution_count": 28,
   "id": "6be9b3bf-84f0-42ab-8505-7620929e5056",
   "metadata": {},
   "outputs": [
    {
     "data": {
      "text/plain": [
       "[0, 1]"
      ]
     },
     "execution_count": 28,
     "metadata": {},
     "output_type": "execute_result"
    }
   ],
   "source": [
    "two_sum(nums = [2,7,11,15], target = 9)"
   ]
  },
  {
   "cell_type": "code",
   "execution_count": 29,
   "id": "f1106f7b-a243-4c73-b953-2cb7a4d82087",
   "metadata": {},
   "outputs": [
    {
     "data": {
      "text/plain": [
       "[1, 2]"
      ]
     },
     "execution_count": 29,
     "metadata": {},
     "output_type": "execute_result"
    }
   ],
   "source": [
    "two_sum(nums = [3,2,4], target = 6)"
   ]
  },
  {
   "cell_type": "code",
   "execution_count": 30,
   "id": "dfe9df5b-db82-478c-b8f7-25b4f0a42161",
   "metadata": {},
   "outputs": [
    {
     "data": {
      "text/plain": [
       "[0, 1]"
      ]
     },
     "execution_count": 30,
     "metadata": {},
     "output_type": "execute_result"
    }
   ],
   "source": [
    "two_sum(nums = [3,3], target = 6)"
   ]
  },
  {
   "cell_type": "markdown",
   "id": "b31b4393-66a8-496a-a7c2-43b3400db736",
   "metadata": {},
   "source": [
    "We can write more efficient code once we learn other data structures in chapter 3 of McKinney!"
   ]
  },
  {
   "cell_type": "markdown",
   "id": "4356132c-54c0-419a-aacd-55b6766dd774",
   "metadata": {},
   "source": [
    "***Practice:***\n",
    "\n",
    "Write a function `best_time` that solves the following.\n",
    "\n",
    "You are given an array `prices` where `prices[i]` is the price of a given stock on the $i^{th}$ day.\n",
    "\n",
    "You want to maximize your profit by choosing a single day to buy one stock and choosing a different day in the future to sell that stock.\n",
    "\n",
    "Return the maximum profit you can achieve from this transaction. If you cannot achieve any profit, return 0.\n",
    "\n",
    "Here are some examples:\n",
    "\n",
    "Example 1:\n",
    "\n",
    "Input: `prices = [7,1,5,3,6,4]` \\\n",
    "Output: `5` \\\n",
    "Explanation: Buy on day 2 (price = 1) and sell on day 5 (price = 6), profit = 6-1 = 5.\n",
    "Note that buying on day 2 and selling on day 1 is not allowed because you must buy before you sell.\n",
    "\n",
    "Example 2:\n",
    "\n",
    "Input: `prices = [7,6,4,3,1]` \\\n",
    "Output: `0` \\\n",
    "Explanation: In this case, no transactions are done and the max profit = 0.\n",
    "\n",
    "I saw this question on [LeetCode](https://leetcode.com/problems/best-time-to-buy-and-sell-stock/)."
   ]
  },
  {
   "cell_type": "code",
   "execution_count": 31,
   "id": "1789138e-4ffa-48b6-b6bc-a9afa3aa6009",
   "metadata": {},
   "outputs": [],
   "source": [
    "def max_profit(prices):\n",
    "        min_price = prices[0]\n",
    "        max_profit = 0\n",
    "        for price in prices:\n",
    "            min_price = price if price < min_price else min_price\n",
    "            profit = price - min_price\n",
    "            max_profit = profit if profit > max_profit else max_profit\n",
    "        return max_profit"
   ]
  },
  {
   "cell_type": "code",
   "execution_count": 32,
   "id": "67fd3f6f-148f-4c4a-9b6b-f9e3c43e2594",
   "metadata": {},
   "outputs": [
    {
     "data": {
      "text/plain": [
       "5"
      ]
     },
     "execution_count": 32,
     "metadata": {},
     "output_type": "execute_result"
    }
   ],
   "source": [
    "max_profit(prices=[7,1,5,3,6,4])"
   ]
  },
  {
   "cell_type": "code",
   "execution_count": 33,
   "id": "eb044098-6d03-4f87-be83-d5044a60f13f",
   "metadata": {},
   "outputs": [
    {
     "data": {
      "text/plain": [
       "0"
      ]
     },
     "execution_count": 33,
     "metadata": {},
     "output_type": "execute_result"
    }
   ],
   "source": [
    "max_profit(prices=[7,6,4,3,1])"
   ]
  }
 ],
 "metadata": {
  "author": "Richard Herron",
  "kernelspec": {
   "display_name": "Python 3 (ipykernel)",
   "language": "python",
   "name": "python3"
  },
  "language_info": {
   "codemirror_mode": {
    "name": "ipython",
    "version": 3
   },
   "file_extension": ".py",
   "mimetype": "text/x-python",
   "name": "python",
   "nbconvert_exporter": "python",
   "pygments_lexer": "ipython3",
   "version": "3.10.8"
  },
  "title": "McKinney Chapter 2 - Practice",
  "toc-autonumbering": true
 },
 "nbformat": 4,
 "nbformat_minor": 5
}