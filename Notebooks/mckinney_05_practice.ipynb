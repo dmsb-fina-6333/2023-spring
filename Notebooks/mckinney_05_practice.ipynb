{
 "cells": [
  {
   "cell_type": "markdown",
   "id": "c1e33842-3bd0-4623-9296-60a1ad2fe57b",
   "metadata": {},
   "source": [
    "# McKinney Chapter 5 - Practice (Blank)"
   ]
  },
  {
   "cell_type": "markdown",
   "id": "4761cb0f-5db6-409b-822e-f4a354118458",
   "metadata": {},
   "source": [
    "***Practice:***\n",
    "Slice the row in `df` with the largest value in column `one`."
   ]
  },
  {
   "cell_type": "markdown",
   "id": "5f27416c-fda7-4a43-81e9-ba9446993960",
   "metadata": {},
   "source": [
    "***Practice:***\n",
    "Slice the column in `df` with the largest value in row `a`."
   ]
  },
  {
   "cell_type": "markdown",
   "id": "7676ea14-7d16-4f21-be69-7e3440ecce75",
   "metadata": {},
   "source": [
    "***Practice:***\n",
    "Calculate the correlation matrix for these four stocks using data from 2010 through 2015."
   ]
  },
  {
   "cell_type": "markdown",
   "id": "e74aa623-567d-4fcf-95dd-0d80d475e9b4",
   "metadata": {},
   "source": [
    "***Practice:***\n",
    "Calculate the correlation matrix for these four stocks using data from 2016 through today."
   ]
  },
  {
   "cell_type": "markdown",
   "id": "16a850d1-f9e7-4dc8-b33f-74ec389bb9ab",
   "metadata": {},
   "source": [
    "***Practice:***\n",
    "Calculate the cumulative returns for these four stocks for 2020 through today.\n",
    "We can compound returns as: $1 + R_{cumulative,T} = \\prod_{t=1}^T 1 + R_t$. \n",
    "We can use the cumulative product method `.cumprod()` to calculate the right hand side of the formula above."
   ]
  },
  {
   "cell_type": "markdown",
   "id": "a78a1284-8273-4342-ae6f-fb8f239d4649",
   "metadata": {},
   "source": [
    "***Practice:***\n",
    "Use the `.plot()` method to plot these cumulative returns."
   ]
  }
 ],
 "metadata": {
  "author": "Richard Herron",
  "kernelspec": {
   "display_name": "Python 3 (ipykernel)",
   "language": "python",
   "name": "python3"
  },
  "language_info": {
   "codemirror_mode": {
    "name": "ipython",
    "version": 3
   },
   "file_extension": ".py",
   "mimetype": "text/x-python",
   "name": "python",
   "nbconvert_exporter": "python",
   "pygments_lexer": "ipython3",
   "version": "3.10.8"
  },
  "title": "McKinney Chapter 5 - Practice"
 },
 "nbformat": 4,
 "nbformat_minor": 5
}
