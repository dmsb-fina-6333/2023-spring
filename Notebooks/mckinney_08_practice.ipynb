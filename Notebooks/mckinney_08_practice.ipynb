{
 "cells": [
  {
   "cell_type": "markdown",
   "id": "e22b96cf-fcc9-48eb-9193-5c4f7511d5ec",
   "metadata": {},
   "source": [
    "# McKinney Chapter 8 - Practice (Blank)"
   ]
  },
  {
   "cell_type": "markdown",
   "id": "d1d4d067-c386-43b6-a1c3-e9bfdf8aac47",
   "metadata": {},
   "source": [
    "## Announcements"
   ]
  },
  {
   "cell_type": "markdown",
   "id": "3aa04ff4-95f4-4f8d-a34a-48dc625048ea",
   "metadata": {},
   "source": [
    "## Practice"
   ]
  },
  {
   "cell_type": "markdown",
   "id": "e93fc119-300c-485b-8873-20e45cfe1076",
   "metadata": {},
   "source": [
    "### Download data from Yahoo! Finance for AAPL, META, and MSFT and assign to data frame `stocks`."
   ]
  },
  {
   "cell_type": "markdown",
   "id": "a1d8bbea-6f74-412b-99a0-f0c453b5e377",
   "metadata": {},
   "source": [
    "Use `stocks.columns.names` to assign the names `Variable` and `Ticker` to the column multi index."
   ]
  },
  {
   "cell_type": "markdown",
   "id": "b25d9cee-e491-4a19-97a9-8f77dddd8abf",
   "metadata": {},
   "source": [
    "### Reshape `stocks` for wide to long with dates and tickers as row indexes and assign to data frame `stocks_long`."
   ]
  },
  {
   "cell_type": "markdown",
   "id": "4d71d86f-2ded-4410-a67e-eb27d9691f5b",
   "metadata": {},
   "source": [
    "### Add daily returns for each stock to data frames `stocks` and `stocks_long`."
   ]
  },
  {
   "cell_type": "markdown",
   "id": "22bc3928-d1b5-4f44-955f-4c2f7c551417",
   "metadata": {},
   "source": [
    "Name the returns variable `Returns`, and maintain all multi indexes.\n",
    "*Hint:* Use `pd.MultiIndex()` to create a multi index for the the wide data frame `stocks`."
   ]
  },
  {
   "cell_type": "markdown",
   "id": "bd1c7307-ff48-47a8-971c-19e4535d0ac7",
   "metadata": {},
   "source": [
    "### Download the daily benchmark return factors from Ken French's data library via pandas-datareader."
   ]
  },
  {
   "cell_type": "markdown",
   "id": "fb5d25d2-1b2b-435d-b919-d242645060ee",
   "metadata": {},
   "source": [
    "### Add the daily benchmark return factors to `stocks` and `stocks_long`."
   ]
  },
  {
   "cell_type": "markdown",
   "id": "4a1d9ba1-dc4e-4f47-81a8-0279f12ba42a",
   "metadata": {},
   "source": [
    "### Write a function `download()` that accepts tickers and returns a wied data frame of returns with the daily benchmark return factors"
   ]
  },
  {
   "cell_type": "markdown",
   "id": "34e6d9ef-dec1-4c21-9292-4f843f22ea0b",
   "metadata": {},
   "source": [
    "### Download earnings per share for the stocks in `stocks` and combine and assign to data frame `earnings`."
   ]
  },
  {
   "cell_type": "markdown",
   "id": "095ad436-3fb5-414a-965a-7b50f05bb9d3",
   "metadata": {},
   "source": [
    "Use the `.earnings_dates()` method described [here](https://pypi.org/project/yfinance/).\n",
    "Use `pd.concat()` to combine the result of each `.earnings_date()` call and assign to data frame `earnings`."
   ]
  },
  {
   "cell_type": "markdown",
   "id": "9b2f15e4-5c98-42e5-b8de-c63aedd2e0c9",
   "metadata": {},
   "source": [
    "### Combine add `earnings` to `stocks_long`."
   ]
  },
  {
   "cell_type": "markdown",
   "id": "ff90f7c7-a1ef-4e3a-b938-933ee91be1d1",
   "metadata": {},
   "source": [
    "### Plot the relation between daily returns and earnings surprises"
   ]
  }
 ],
 "metadata": {
  "author": "Richard Herron",
  "kernelspec": {
   "display_name": "Python 3 (ipykernel)",
   "language": "python",
   "name": "python3"
  },
  "language_info": {
   "codemirror_mode": {
    "name": "ipython",
    "version": 3
   },
   "file_extension": ".py",
   "mimetype": "text/x-python",
   "name": "python",
   "nbconvert_exporter": "python",
   "pygments_lexer": "ipython3",
   "version": "3.9.13"
  },
  "title": "McKinney Chapter 8 - Practice"
 },
 "nbformat": 4,
 "nbformat_minor": 5
}
