{
 "cells": [
  {
   "cell_type": "markdown",
   "id": "e22b96cf-fcc9-48eb-9193-5c4f7511d5ec",
   "metadata": {},
   "source": [
    "# McKinney Chapter 8 - Practice (Blank)"
   ]
  },
  {
   "cell_type": "markdown",
   "id": "cfb8ec6c-3d11-4261-8ccd-c1a587c59f32",
   "metadata": {},
   "source": [
    "***Practice:***\n",
    "Above, we un-stacked the inner index level to columns.\n",
    "Instead, un-stack the outer index level to columns."
   ]
  },
  {
   "cell_type": "code",
   "execution_count": 101,
   "id": "d404d7c4-f91e-4aa8-a0bf-7e7f16869a2c",
   "metadata": {
    "collapsed": false,
    "editable": true,
    "jupyter": {
     "outputs_hidden": false
    }
   },
   "outputs": [],
   "source": [
    "np.random.seed(42)\n",
    "data = pd.Series(\n",
    "    data=np.random.randn(9),\n",
    "    index=[\n",
    "        ['a', 'a', 'a', 'b', 'b', 'c', 'c', 'd', 'd'],\n",
    "        [1, 2, 3, 1, 3, 1, 2, 2, 3]\n",
    "    ]\n",
    ")"
   ]
  },
  {
   "cell_type": "markdown",
   "id": "e93fc119-300c-485b-8873-20e45cfe1076",
   "metadata": {},
   "source": [
    "***Practice:***\n",
    "Download data from Yahoo Finance for AAPL, META, and MSFT to a data frame named `stocks`.\n",
    "Then add daily returns for each stock as the percent change in the adjusted closing price, and call it `Return`.\n",
    "Finally, wrangle `stocks` as follows and assign to a new data frame `stocks_long`.\n",
    "*Hint:* You may want to use `pd.MultiIndex()` to add multiple return columns at once:\n",
    "\n",
    "1. Reshape `stocks` from wide to long and assign to `stocks_long`\n",
    "    1. Columns should have a single name (Open, High, Low, Close, etc.) with the name Variable\n",
    "    1. Row should have a multi-index on tickers and dates, in that order, with the names Ticker and Date\n",
    "1. Sort `stocks_long` so that data are in chronological order within alphabetical blocks by ticker"
   ]
  },
  {
   "cell_type": "markdown",
   "id": "b70d6380-f87d-44a6-a9dc-318701047674",
   "metadata": {},
   "source": [
    "***Practice:***\n",
    "Convert your code above to a function named `download()` that accepts a list of tickers"
   ]
  },
  {
   "cell_type": "markdown",
   "id": "257b5056-e0c9-4800-9b7f-9422bc79fc15",
   "metadata": {},
   "source": [
    "***Practice:***\n",
    "Remove the ticker-date index from the `stocks_long` data frame and add it as columns.\n",
    "Name this new data frame `stocks_long_2`."
   ]
  },
  {
   "cell_type": "markdown",
   "id": "4cc901e1-b3df-4667-bb01-5fca62908a0d",
   "metadata": {},
   "source": [
    "***Practice:***\n",
    "Add back the ticker-date index from the `stocks_long` data frame.\n",
    "Name this new data frame `stocks_long_3`.\n",
    "Use `np.allclose()` to compare `stocks_long` and `stocks_long_3`."
   ]
  },
  {
   "cell_type": "markdown",
   "id": "39da38fc-fa41-4d5b-88f6-8f68213420cc",
   "metadata": {
    "tags": []
   },
   "source": [
    "***Practice:***\n",
    "Merge the Fama-French daily factor data to the `stocks` and `stocks_long` data frames from above.\n",
    "The Fama-French daily factor data are simple returns as percents, so divide by 100 to create decimal returns."
   ]
  }
 ],
 "metadata": {
  "author": "Richard Herron",
  "kernelspec": {
   "display_name": "Python 3 (ipykernel)",
   "language": "python",
   "name": "python3"
  },
  "language_info": {
   "codemirror_mode": {
    "name": "ipython",
    "version": 3
   },
   "file_extension": ".py",
   "mimetype": "text/x-python",
   "name": "python",
   "nbconvert_exporter": "python",
   "pygments_lexer": "ipython3",
   "version": "3.10.8"
  },
  "title": "McKinney Chapter 8 - Practice"
 },
 "nbformat": 4,
 "nbformat_minor": 5
}
