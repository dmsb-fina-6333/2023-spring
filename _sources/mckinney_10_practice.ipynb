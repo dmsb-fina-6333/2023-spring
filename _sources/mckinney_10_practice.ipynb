{
 "cells": [
  {
   "cell_type": "markdown",
   "id": "8178742d-2457-4e82-b936-265ef2bde302",
   "metadata": {},
   "source": [
    "# McKinney Chapter 10 - Practice (Blank)"
   ]
  },
  {
   "cell_type": "markdown",
   "id": "2abe814c-82cc-4cfd-b77a-7b4d48d7bddd",
   "metadata": {},
   "source": [
    "## Announcements"
   ]
  },
  {
   "cell_type": "markdown",
   "id": "1dd7f11d-884e-45a0-a263-20ae9cf74b17",
   "metadata": {},
   "source": [
    "## Practice"
   ]
  },
  {
   "cell_type": "markdown",
   "id": "dbc813ae-f054-42ef-8af9-52399356e544",
   "metadata": {},
   "source": [
    "### Calulate the mean and standard deviation of returns by ticker for the MATANA (MSFT, AAPL, TSLA, AMZN, NVDA, and GOOG) stocks."
   ]
  },
  {
   "cell_type": "markdown",
   "id": "bee430a8-9f9f-4993-abc5-42c6e025f037",
   "metadata": {},
   "source": [
    "Consider only dates with complete returns data.\n",
    "This calculation might be easier with a long data frame."
   ]
  },
  {
   "cell_type": "markdown",
   "id": "6a98e0ba-03a9-4ecc-9adf-6aefb5c3a55d",
   "metadata": {},
   "source": [
    "### Calculate the mean and standard deviation of returns and the maximum of closing prices by ticker for the MATANA stocks."
   ]
  },
  {
   "cell_type": "markdown",
   "id": "5067cc90-0925-4652-abe1-2512653f4bf1",
   "metadata": {},
   "source": [
    "This calculation might be easier if we pass a dictionary where the keys are the column names and the values are lists of functions."
   ]
  },
  {
   "cell_type": "markdown",
   "id": "6038bd49-9fea-415d-8ec0-ece18a9a152e",
   "metadata": {},
   "source": [
    "### Calculate monthly means and volatilities for SPY and GOOG returns"
   ]
  },
  {
   "cell_type": "markdown",
   "id": "b1ba36ef-e562-4ea6-9b26-ee9544d51164",
   "metadata": {},
   "source": [
    "### Plot the monthly means and volatilities from the previous exercise"
   ]
  },
  {
   "cell_type": "markdown",
   "id": "71eada9a-058e-4cf1-88b4-7e008d261a89",
   "metadata": {},
   "source": [
    "### Calculate the *mean* monthly correlation between the Dow Jones stocks"
   ]
  },
  {
   "cell_type": "markdown",
   "id": "cd304c1d-3865-4c34-ae5c-31d0dd078a71",
   "metadata": {},
   "source": [
    "Drop duplicate correlations and self correlations (i.e., correlation between AAPL and AAPL), which are 1, by definition."
   ]
  },
  {
   "cell_type": "markdown",
   "id": "4ee3d6d2-6c1a-4589-b38a-25f6b870141e",
   "metadata": {},
   "source": [
    "### Do correlations \"go to one\" during crises?"
   ]
  },
  {
   "cell_type": "markdown",
   "id": "77ca29ba-f32f-4111-9973-cedc37f738e7",
   "metadata": {},
   "source": [
    "How might we identify a \"crisis\"?"
   ]
  },
  {
   "cell_type": "markdown",
   "id": "1d5dbefb-36eb-4ee1-a098-6bad54e2989e",
   "metadata": {},
   "source": [
    "### Is market volatility higher during wars?"
   ]
  },
  {
   "cell_type": "markdown",
   "id": "bb9359a2-490a-4a4a-a1a0-4ace7a884f95",
   "metadata": {},
   "source": [
    "Here is some guidance:\n",
    "\n",
    "1. Download the daily factor data from Ken French's website\n",
    "1. Calculate daily market returns by summing the market risk premium and risk-free rates (`Mkt-RF` and `RF`, respectively)\n",
    "1. Calculate the volatility (standard deviation) of daily returns *every month* by combining `pd.Grouper()` and `.groupby()`)\n",
    "1. Multiply by $\\sqrt{252}$ to annualize these volatilities of daily returns\n",
    "1. Plot these annualized volatilities\n",
    "\n",
    "Is market volatility higher during wars?\n",
    "Consider the following dates:\n",
    "\n",
    "1. WWII: December 1941 to September 1945\n",
    "1. Korean War: 1950 to 1953\n",
    "1. Viet Nam War: 1959 to 1975\n",
    "1. Gulf War: 1990 to 1991\n",
    "1. War in Afghanistan: 2001 to 2021"
   ]
  }
 ],
 "metadata": {
  "author": "Richard Herron",
  "kernelspec": {
   "display_name": "Python 3 (ipykernel)",
   "language": "python",
   "name": "python3"
  },
  "language_info": {
   "codemirror_mode": {
    "name": "ipython",
    "version": 3
   },
   "file_extension": ".py",
   "mimetype": "text/x-python",
   "name": "python",
   "nbconvert_exporter": "python",
   "pygments_lexer": "ipython3",
   "version": "3.9.13"
  },
  "title": "McKinney Chapter 10 - Practice"
 },
 "nbformat": 4,
 "nbformat_minor": 5
}
